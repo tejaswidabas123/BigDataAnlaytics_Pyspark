{
 "cells": [
  {
   "cell_type": "code",
   "execution_count": 1,
   "metadata": {},
   "outputs": [],
   "source": [
    "from operator import add\n",
    "from pyspark import SparkContext\n",
    "\n",
    "sc = SparkContext.getOrCreate()"
   ]
  },
  {
   "cell_type": "code",
   "execution_count": 2,
   "metadata": {},
   "outputs": [],
   "source": [
    "# Download the files from AWS \n",
    "\n",
    "!wget -q  https://storage.googleapis.com/met-cs-777-data/flights.csv.bz2\n",
    "    \n",
    "!wget -q  https://storage.googleapis.com/met-cs-777-data/airports.csv"
   ]
  },
  {
   "cell_type": "code",
   "execution_count": 3,
   "metadata": {},
   "outputs": [],
   "source": [
    "lines = sc.textFile(\"flights.csv.bz2\")\n",
    "airports_lines = sc.textFile('airports.csv.bz2')\n"
   ]
  },
  {
   "cell_type": "code",
   "execution_count": 4,
   "metadata": {},
   "outputs": [
    {
     "data": {
      "text/plain": [
       "[('2015',\n",
       "  '1',\n",
       "  '1',\n",
       "  '4',\n",
       "  'US',\n",
       "  '840',\n",
       "  'N171US',\n",
       "  'SFO',\n",
       "  'CLT',\n",
       "  '0020',\n",
       "  '0018',\n",
       "  -2.0,\n",
       "  '0')]"
      ]
     },
     "execution_count": 4,
     "metadata": {},
     "output_type": "execute_result"
    }
   ],
   "source": [
    "# Removing the Header Line from CSV file\n",
    "linesHeader = lines.first()\n",
    "#header = sc.parallelize([linesHeader])\n",
    "#linesWithOutHeader = lines.subtract(header)\n",
    "\n",
    "flights_raw = lines\\\n",
    "    .zipWithIndex()\\\n",
    "    .filter(lambda x: x[1] > 1)\\\n",
    "    .keys()\n",
    "\n",
    "#flishgts = flights_lines\\\n",
    "#    .map(lambda x: x.split(','))\n",
    "#flights = flights_raw.map(lambda p: (p[0], p[1] , p[2] , p[3], p[4] , p[5] , p[6], p[7] , p[8] , p[9], p[10], '0' if p[11] == '' else p[11], p[24] ))\n",
    "\n",
    "\n",
    "flights = flights_raw\\\n",
    "    .map(lambda x: x.split(','))\\\n",
    "    .map(lambda x: (x[0], x[1], x[2], x[3], x[4], \n",
    "                    x[5], x[6], x[7], x[8], x[9], \n",
    "                    x[10], 0 if x[11]=='' else float(x[11]), x[12], x[13], x[14], \n",
    "                    x[15], x[16], x[17], x[18], x[19], \n",
    "                    x[20], x[21], x[22], x[23], x[24],\n",
    "                    x[25], x[26], x[27], x[28], x[29], x[30]\n",
    "))\n",
    "\n",
    "\n",
    "airports_raw = airports_lines\\\n",
    "    .zipWithIndex()\\\n",
    "    .filter(lambda x:x[1]>1)\\\n",
    "    .keys()\n",
    "\n",
    "airports = airports_raw\\\n",
    "    .map(lambda x: x.split(','))\\\n",
    "    .map(lambda x: (x[0], x[1], x[2], x[3]))\\\n",
    "    .filter(lambda x: x[0])\n",
    "\n",
    "\n",
    "mainFlightsData = flights.map(lambda p: (p[0], p[1], p[2], p[3], p[4], p[5],\n",
    "                                         p[6], p[7], p[8], p[9], p[10], p[11], p[24]))\n",
    "\n",
    "mainFlightsData.take(1)\n",
    "# 0 YEAR,\n",
    "# 1 MONTH,\n",
    "# 2 DAY,\n",
    "# 3 DAY_OF_WEEK,\n",
    "# 4 AIRLINE, \n",
    "# 5 FLIGHT_NUMBER,\n",
    "# 6 TAIL_NUMBER,\n",
    "# 7 ORIGIN_AIRPORT,\n",
    "# 8 DESTINATION_AIRPORT,\n",
    "# 9 SCHEDULED_DEPARTURE,\n",
    "# 10 DEPARTURE_TIME,\n",
    "# 11 DEPARTURE_DELAY, \n",
    "# 12 CANCELLED"
   ]
  },
  {
   "cell_type": "code",
   "execution_count": 5,
   "metadata": {},
   "outputs": [
    {
     "name": "stdout",
     "output_type": "stream",
     "text": [
      "107847\n",
      "26092\n"
     ]
    }
   ],
   "source": [
    "# number 6 is ORIGIN_AIRPORT\n",
    "flightsFromBoston = mainFlightsData\\\n",
    "    .filter(lambda p: True if p[7] == \"BOS\" else False )\n",
    "\n",
    "# Get the total number of Flights from BOS\n",
    "# 107847 flights from Logan Airport in Boston\n",
    "print(flightsFromBoston.count())\n",
    "\n",
    "# Find the subset of flights departing on the weekend.\n",
    "weekEndFlights = flightsFromBoston\\\n",
    "    .filter(lambda p: True if (int(p[3])==6 or int(p[3]) ==7) else False)\n",
    "print(weekEndFlights.count()) # 26092"
   ]
  },
  {
   "cell_type": "code",
   "execution_count": 7,
   "metadata": {},
   "outputs": [
    {
     "data": {
      "text/plain": [
       "['SLC']"
      ]
     },
     "execution_count": 7,
     "metadata": {},
     "output_type": "execute_result"
    }
   ],
   "source": [
    "#Q1 Find a list of Origin Airports\n",
    "result = flights\\\n",
    "    .map(lambda x:x[7])\\\n",
    "    .distinct()\n",
    "\n",
    "\n",
    "# Save the RDD into a Folder\n",
    "# This can be a path on Cloud Storage\n",
    "\n",
    "# Just show one of the results \n",
    "result.take(1)"
   ]
  },
  {
   "cell_type": "code",
   "execution_count": 8,
   "metadata": {},
   "outputs": [
    {
     "data": {
      "text/plain": [
       "[('SEA', 'ANC')]"
      ]
     },
     "execution_count": 8,
     "metadata": {},
     "output_type": "execute_result"
    }
   ],
   "source": [
    "#Q2 Find a list of (Origin, Destination) pairs\n",
    "result = flights\\\n",
    "    .map(lambda x: (x[7],x[8]))\\\n",
    "    .distinct()\n",
    "\n",
    "# Save the RDD into a Folder\n",
    "# This can be a path on Cloud Storage\n",
    "# result.saveAsTextFile(\"Origin-Destination\")\n",
    "\n",
    "# Just show one of the results \n",
    "result.take(1)"
   ]
  },
  {
   "cell_type": "code",
   "execution_count": 9,
   "metadata": {},
   "outputs": [
    {
     "name": "stdout",
     "output_type": "stream",
     "text": [
      "[('BHM', 1988.0)]\n"
     ]
    }
   ],
   "source": [
    "#Q3 Find the Origin airport which had the largest departure delay in the month of January\n",
    "result = flights\\\n",
    "    .filter(lambda x: x[1]==\"1\")\\\n",
    "    .map(lambda x: (x[7], x[11]) )\\\n",
    "    .top(1, lambda x:x[1])\n",
    "\n",
    "print(result)"
   ]
  },
  {
   "cell_type": "code",
   "execution_count": 10,
   "metadata": {},
   "outputs": [
    {
     "name": "stdout",
     "output_type": "stream",
     "text": [
      "[('AA', 1878.0)]\n"
     ]
    }
   ],
   "source": [
    "#Q4 Find out which carrier has the largest delay on Weekends. \n",
    "result = flights\\\n",
    "    .filter(lambda x: x[3]==\"6\" or x[3]==\"7\")\\\n",
    "    .map(lambda x: (x[4],x[11]) )\\\n",
    "    .top(1,lambda x: x[1])\n",
    "\n",
    "print(result)"
   ]
  },
  {
   "cell_type": "code",
   "execution_count": 11,
   "metadata": {},
   "outputs": [
    {
     "name": "stdout",
     "output_type": "stream",
     "text": [
      "[('ORD', 8548)]\n"
     ]
    }
   ],
   "source": [
    "#Q5 Which airport has the most cancellation of flights?\n",
    "result = flights\\\n",
    "    .filter(lambda x: x[24]==\"1\")\\\n",
    "    .map(lambda x: (x[7],1))\\\n",
    "    .reduceByKey(add)\\\n",
    "    .top(1, lambda x: x[1])\n",
    "\n",
    "print(result)"
   ]
  },
  {
   "cell_type": "code",
   "execution_count": 12,
   "metadata": {},
   "outputs": [
    {
     "data": {
      "text/plain": [
       "[('AA', 1.5040297086846388)]"
      ]
     },
     "execution_count": 12,
     "metadata": {},
     "output_type": "execute_result"
    }
   ],
   "source": [
    "#Q6 Find the percent of flights cancelled for each carrier.\n",
    "result = flights\\\n",
    "    .map(lambda x: (x[4], ((int(x[24])), 1)))\\\n",
    "    .reduceByKey(lambda x,y: (x[0]+y[0],x[1]+y[1]))\\\n",
    "    .map(lambda x: (x[0], x[1][0]/x[1][1] * 100))\n",
    "\n",
    "# Just show one of the results \n",
    "result.take(1)\n"
   ]
  },
  {
   "cell_type": "code",
   "execution_count": 13,
   "metadata": {},
   "outputs": [
    {
     "data": {
      "text/plain": [
       "[('AA', 1988.0)]"
      ]
     },
     "execution_count": 13,
     "metadata": {},
     "output_type": "execute_result"
    }
   ],
   "source": [
    "#Q7 Find the largest departure delay for each carrier\n",
    "result = flights\\\n",
    "    .map(lambda x: (x[4], x[11]) )\\\n",
    "    .reduceByKey(max)\n",
    "\n",
    "# Just show one of the results \n",
    "result.take(1)"
   ]
  },
  {
   "cell_type": "code",
   "execution_count": 14,
   "metadata": {},
   "outputs": [
    {
     "data": {
      "text/plain": [
       "[(('UA', 1), 886.0)]"
      ]
     },
     "execution_count": 14,
     "metadata": {},
     "output_type": "execute_result"
    }
   ],
   "source": [
    "#Q8 Find the largest departure delay for each carrier for each month\n",
    "result = flights\\\n",
    "    .map(lambda x: ((x[4], int(x[1])), x[11]) )\\\n",
    "    .reduceByKey(max)\n",
    "\n",
    "# Just show one of the results \n",
    "result.take(1)\n"
   ]
  },
  {
   "cell_type": "code",
   "execution_count": 15,
   "metadata": {},
   "outputs": [
    {
     "data": {
      "text/plain": [
       "[('AA', 8.773542906652084)]"
      ]
     },
     "execution_count": 15,
     "metadata": {},
     "output_type": "execute_result"
    }
   ],
   "source": [
    "#Q9 For each carrier find the average Departure delay\n",
    "result = flights \\\n",
    "    .map(lambda x: (x[4], (x[11], 1))) \\\n",
    "    .reduceByKey(lambda x,y: (x[0]+y[0], x[1]+y[1]))\\\n",
    "    .map(lambda x: (x[0], x[1][0]/x[1][1])) \\\n",
    "\n",
    "# Just show one of the results \n",
    "result.take(1)\n"
   ]
  },
  {
   "cell_type": "code",
   "execution_count": 16,
   "metadata": {},
   "outputs": [
    {
     "data": {
      "text/plain": [
       "[(('UA', 1), 13.666987889048054)]"
      ]
     },
     "execution_count": 16,
     "metadata": {},
     "output_type": "execute_result"
    }
   ],
   "source": [
    "#Q10 For each carrier find the average Departure delay for each month\n",
    "result = flights.map(lambda x: ((x[4], int(x[1])),(x[11],1)))\\\n",
    "    .reduceByKey(lambda x,y: (x[0]+y[0], x[1]+y[1]))\\\n",
    "    .map(lambda x: (x[0], x[1][0]/x[1][1]))\n",
    "\n",
    "# Just show one of the results \n",
    "result.take(1)\n"
   ]
  },
  {
   "cell_type": "code",
   "execution_count": 17,
   "metadata": {},
   "outputs": [
    {
     "name": "stdout",
     "output_type": "stream",
     "text": [
      "[(('2015', '1', '27'), 0.19030023094688223)]\n"
     ]
    }
   ],
   "source": [
    "#Q11 Which date of year has the highest rate  of flight cancellations?\n",
    "# Rate of flight cancellation is calculated by deviding number of canceled flights by total number of flights.\n",
    "result = flights\\\n",
    "    .map(lambda x: ((x[0],x[1],x[2]), ((int(x[24])), 1)) )\\\n",
    "    .reduceByKey(lambda x,y: (x[0]+y[0],x[1]+y[1]))\\\n",
    "    .map(lambda x: (x[0], x[1][0]/x[1][1]))\\\n",
    "    .top(1, lambda x:x[1])\n",
    "\n",
    "print(result)\n"
   ]
  },
  {
   "cell_type": "code",
   "execution_count": 18,
   "metadata": {},
   "outputs": [
    {
     "data": {
      "text/plain": [
       "[('NK', 'PA')]"
      ]
     },
     "execution_count": 18,
     "metadata": {},
     "output_type": "execute_result"
    }
   ],
   "source": [
    "#Q12 Calculate the number of flights to each destination state\n",
    "# For each carrier, for which state do they have the largest average delay? \n",
    "# You will need the airline and airport data sets for this question.\n",
    "\n",
    "result = flights\\\n",
    "    .map(lambda x: ( (x[4],x[8]), (x[11],1) ))\\\n",
    "    .reduceByKey(lambda x,y: (x[0]+y[0], x[1]+y[1]))\\\n",
    "    .map(lambda x: (x[0][1], (x[0][0], x[1][0]/x[1][1]) ))\\\n",
    "    .leftOuterJoin(airports.map(lambda x: (x[0], x[3])))\\\n",
    "    .filter(lambda x: x[1][1] is not None)\\\n",
    "    .map(lambda x: (x[1][0][0], (x[1][1], x[1][0][1])))\\\n",
    "    .reduceByKey(lambda x,y: (x[0],x[1]) if x[1] > y[1] else (y[0],y[1]) )\\\n",
    "    .map(lambda x: (x[0], x[1][0]))\n",
    "\n",
    "# Just show one of the results \n",
    "result.take(1)\n"
   ]
  }
 ],
 "metadata": {
  "kernelspec": {
   "display_name": "Python 3",
   "language": "python",
   "name": "python3"
  },
  "language_info": {
   "codemirror_mode": {
    "name": "ipython",
    "version": 3
   },
   "file_extension": ".py",
   "mimetype": "text/x-python",
   "name": "python",
   "nbconvert_exporter": "python",
   "pygments_lexer": "ipython3",
   "version": "3.9.7"
  }
 },
 "nbformat": 4,
 "nbformat_minor": 2
}
