{
 "cells": [
  {
   "cell_type": "code",
   "execution_count": 2,
   "metadata": {},
   "outputs": [],
   "source": [
    "import sys\n",
    "from operator import add\n",
    "from itertools import combinations\n",
    "\n",
    "import requests\n",
    "\n",
    "from pyspark.sql.types import *\n",
    "\n",
    "from pyspark.sql import functions as f\n",
    "from pyspark.sql.functions import udf\n",
    "\n",
    "from pyspark.sql.functions import lit\n",
    "from pyspark import sql\n",
    "\n",
    "sqlContext = sql.SparkSession.builder \\\n",
    "        .master(\"local\") \\\n",
    "        .appName(\"Word Count\") \\\n",
    "        .getOrCreate()"
   ]
  },
  {
   "cell_type": "code",
   "execution_count": 3,
   "metadata": {},
   "outputs": [],
   "source": [
    "# lineitems = sqlContext.read.format('csv').options(header='true', inferSchema='true',  sep =\"|\").load(sys.arg[1])\n",
    "path=\"./tpch_tables_scale_0.1/\"\n",
    "# path is where you have the folder. It can be a distributed path like S3, gc or hdfs\n",
    "\n",
    "customer = sqlContext.read.format('csv').options(header='true', inferSchema='true',  sep =\"|\").load(path+\"customer.tbl\")\n",
    "order = sqlContext.read.format('csv').options(header='true', inferSchema='true',  sep =\"|\").load(path+\"orders.tbl\")\n",
    "lineitems = sqlContext.read.format('csv').options(header='true', inferSchema='true',  sep =\"|\").load(path+\"lineitem.tbl\")\n",
    "part = sqlContext.read.format('csv').options(header='true', inferSchema='true',  sep =\"|\").load(path+\"part.tbl\")\n",
    "supplier = sqlContext.read.format('csv').options(header='true', inferSchema='true',  sep =\"|\").load(path+\"supplier.tbl\")\n",
    "partsupp = sqlContext.read.format('csv').options(header='true', inferSchema='true',  sep =\"|\").load(path+\"partsupp.tbl\")\n",
    "region = sqlContext.read.format('csv').options(header='true', inferSchema='true',  sep =\"|\").load(path+\"region.tbl\")\n",
    "nation = sqlContext.read.format('csv').options(header='true', inferSchema='true',  sep =\"|\").load(path+\"nation.tbl\")"
   ]
  },
  {
   "cell_type": "code",
   "execution_count": 4,
   "metadata": {},
   "outputs": [],
   "source": [
    "customerRDD=customer.rdd\n",
    "orderRDD=order.rdd\n",
    "lineitemsRDD=lineitems.rdd\n",
    "partRDD=part.rdd\n",
    "supplierRDD=supplier.rdd\n",
    "partsuppRDD=partsupp.rdd\n",
    "regionRDD=region.rdd\n",
    "nationRDD=nation.rdd"
   ]
  },
  {
   "cell_type": "code",
   "execution_count": 11,
   "metadata": {},
   "outputs": [
    {
     "name": "stdout",
     "output_type": "stream",
     "text": [
      "1: (10620, 56)\n",
      "2: (6140, 54)\n",
      "3: (15584, 52)\n",
      "4: (8051, 52)\n",
      "5: (2292, 51)\n",
      "6: (10597, 51)\n",
      "7: (10715, 51)\n",
      "8: (19444, 50)\n",
      "9: (3225, 50)\n",
      "10: (14422, 50)\n"
     ]
    }
   ],
   "source": [
    "# Question 1\n",
    "# Implement a pyspark code that can find out the top-10 sold products. \n",
    "\n",
    "l = lineitemsRDD\\\n",
    "    .map(lambda x: (x[1], 1))\n",
    "\n",
    "result = l\\\n",
    "    .reduceByKey(add)\\\n",
    "    .top(10, lambda x: x[1])\n",
    "\n",
    "for idx, i in enumerate(result, start=1):\n",
    "    print(\"{}: {}\".format(idx,i))"
   ]
  },
  {
   "cell_type": "code",
   "execution_count": 12,
   "metadata": {},
   "outputs": [
    {
     "name": "stdout",
     "output_type": "stream",
     "text": [
      "1: (8362, 4082)\n",
      "2: (9454, 3870)\n",
      "3: (346, 3817)\n",
      "4: (6958, 3760)\n",
      "5: (1105, 3737)\n",
      "6: (14707, 3710)\n",
      "7: (11998, 3709)\n",
      "8: (14398, 3670)\n",
      "9: (8542, 3660)\n",
      "10: (8761, 3658)\n"
     ]
    }
   ],
   "source": [
    "# ---------------------------------------------------------------------------\n",
    "# Question 2\n",
    "\n",
    "# Find the top-10 customers based on the number of products ordered.\n",
    "\n",
    "l = lineitemsRDD.map(lambda x: (x[0], x[4]))\n",
    "o = orderRDD.map(lambda x: (x[0], x[1]))\n",
    "\n",
    "result = o.join(l)\\\n",
    "    .map(lambda x: (x[1][0], x[1][1]) )\\\n",
    "    .reduceByKey(add)\\\n",
    "    .top(10, lambda x: x[1])\n",
    "\n",
    "for idx, i in enumerate(result, start=1):\n",
    "    print(\"{}: {}\".format(idx,i))\n"
   ]
  },
  {
   "cell_type": "code",
   "execution_count": 13,
   "metadata": {},
   "outputs": [
    {
     "name": "stdout",
     "output_type": "stream",
     "text": [
      "1: ((4567, 844), 7)\n",
      "2: ((11809, 17), 6)\n",
      "3: ((4792, 592), 6)\n",
      "4: ((874, 430), 6)\n",
      "5: ((14767, 8), 6)\n",
      "6: ((2173, 572), 6)\n",
      "7: ((6139, 233), 6)\n",
      "8: ((2603, 288), 5)\n",
      "9: ((5110, 9), 5)\n",
      "10: ((14551, 942), 5)\n"
     ]
    }
   ],
   "source": [
    "# ---------------------------------------------------------------------------\n",
    "# Question 3\n",
    "# Find the top-10 customers that have ordered products from the same supplier. \n",
    "\n",
    "l = lineitemsRDD.map(lambda x: (x[0], x[1]))\n",
    "o = orderRDD.map(lambda x: (x[0], x[1]))\n",
    "p = partsuppRDD.map(lambda x: (x[0], x[1]))\n",
    "\n",
    "ol = o.fullOuterJoin(l)\\\n",
    "    .map(lambda x: (x[1][1], x[1][0]) )\n",
    "\n",
    "result = ol.fullOuterJoin(p)\\\n",
    "    .map(lambda x: ((x[1][0],x[1][1]), 1) )\\\n",
    "    .reduceByKey(add)\\\n",
    "    .top(10, lambda x: x[1])\n",
    "\n",
    "for idx, i in enumerate(result, start=1):\n",
    "    print(\"{}: {}\".format(idx, i))\n",
    "    "
   ]
  },
  {
   "cell_type": "code",
   "execution_count": 19,
   "metadata": {},
   "outputs": [
    {
     "name": "stdout",
     "output_type": "stream",
     "text": [
      "[]\n"
     ]
    }
   ],
   "source": [
    "# ---------------------------------------------------------------------------\n",
    "# Question 4 and 5\n",
    "# Find the customers who have not ordered products from their own country and have ordered only foreign products. \n",
    "\n",
    "o = orderRDD.map(lambda x: (x[0], x[1]))\n",
    "l = lineitemsRDD.map(lambda x: (x[0], x[2]))\n",
    "c = customerRDD.map(lambda x: (x[0], x[3]))\n",
    "s = supplierRDD.map(lambda x: (x[0], x[3]))\n",
    "\n",
    "ol = o.fullOuterJoin(l)\\\n",
    "    .map(lambda x: (x[1][0], x[1][1]))\n",
    "olc = ol.fullOuterJoin(c)\\\n",
    "    .map(lambda x: (x[1][0], (x[0], x[1][1])))\n",
    "olcs = olc.fullOuterJoin(s)\\\n",
    "    .map(lambda x: ((x[1][0][0],x[1][0][1]), x[1][1]))\\\n",
    "    .filter(lambda x: x[1] is not None)\n",
    "\n",
    "def rdd_set(x,y):\n",
    "    x = [x,] if isinstance(x,int) else x\n",
    "    y = [y,] if isinstance(y,int) else y\n",
    "    result = set(x)\n",
    "    result.update(y)\n",
    "    return list(result)\n",
    "\n",
    "result = olcs.reduceByKey(lambda x,y: rdd_set(x,y))\n",
    "\n",
    "\n",
    "# Q4 Answer\n",
    "result1 = result\\\n",
    "    .map(lambda x: (x[0][0], all(i is x[0][1] for i in x[1])))\\\n",
    "    .filter(lambda x: x[1] is True)\n",
    "\n",
    "print(result1.collect())\n"
   ]
  },
  {
   "cell_type": "code",
   "execution_count": 20,
   "metadata": {},
   "outputs": [
    {
     "name": "stdout",
     "output_type": "stream",
     "text": [
      "1: 5701\n",
      "2: 11338\n",
      "3: 9359\n",
      "4: 4781\n",
      "5: 6905\n",
      "6: 3953\n",
      "7: 14888\n",
      "8: 13117\n",
      "9: 11474\n",
      "10: 1586\n",
      "11: 2957\n",
      "12: 12797\n",
      "13: 6652\n",
      "14: 12070\n",
      "15: 85\n",
      "16: 14423\n",
      "17: 3137\n",
      "18: 12128\n",
      "19: 2411\n",
      "20: 13910\n"
     ]
    }
   ],
   "source": [
    "# Q5 Answer\n",
    "result2 = result\\\n",
    "    .map(lambda x: (x[0][0], x[0][1] not in x[1]))\\\n",
    "    .filter(lambda x: x[1] is True).collect()\n",
    "\n",
    "for idx, i in enumerate(result2[:20], start=1):\n",
    "    print(\"{}: {}\".format(idx,i[0]))"
   ]
  },
  {
   "cell_type": "code",
   "execution_count": 21,
   "metadata": {},
   "outputs": [
    {
     "name": "stdout",
     "output_type": "stream",
     "text": [
      "1: (8456, [15747, 3143, 18343, 14515, 4126], 10376, [15395, 2979, 18343, 13032, 3307, 16495, 17401], 0.09090909090909091)\n",
      "2: (10376, [15395, 2979, 18343, 13032, 3307, 16495, 17401], 8456, [15747, 3143, 18343, 14515, 4126], 0.09090909090909091)\n",
      "3: (4808, [1295, 17169, 17813, 8856, 155, 17566, 11683, 15524, 15395, 682, 19122, 8374, 17976, 6460, 5450, 4184, 16601, 5479, 7020, 2940, 3327], 10901, [12473, 15428, 11462, 15629, 12206, 1295, 2039, 4184, 9529, 10142, 13687], 0.06666666666666667)\n",
      "4: (10901, [12473, 15428, 11462, 15629, 12206, 1295, 2039, 4184, 9529, 10142, 13687], 4808, [1295, 17169, 17813, 8856, 155, 17566, 11683, 15524, 15395, 682, 19122, 8374, 17976, 6460, 5450, 4184, 16601, 5479, 7020, 2940, 3327], 0.06666666666666667)\n",
      "5: (7532, [7680, 259, 1285, 17416, 10391, 18718, 6434, 17071, 13236, 2105, 16448, 4551, 846, 16338, 15572, 2652, 11741, 2151, 13424, 18163, 14710, 377], 5390, [7555, 4612, 13349, 14791, 16969, 5452, 846, 17233, 9073, 14710, 1533], 0.06451612903225806)\n",
      "6: (5390, [7555, 4612, 13349, 14791, 16969, 5452, 846, 17233, 9073, 14710, 1533], 7532, [7680, 259, 1285, 17416, 10391, 18718, 6434, 17071, 13236, 2105, 16448, 4551, 846, 16338, 15572, 2652, 11741, 2151, 13424, 18163, 14710, 377], 0.06451612903225806)\n",
      "7: (2489, [774, 6535, 16529, 6418, 8087, 6812, 18589, 13216, 10656, 5154, 8104, 11946, 12718, 15026, 2741, 8764, 7101, 7102, 10431, 18112, 4035, 3911, 3656, 15438, 4560, 16979, 15323, 1756, 1245, 1128, 1901, 8173, 241, 19442, 16120, 1658, 7806, 6399], 4283, [13060, 774, 12044, 18704, 11547, 11040, 297, 8764, 13506, 3656, 8651, 3405, 14545, 16340, 6485, 472, 5723, 16094, 13791, 1635, 12524, 1901, 6765, 2672, 11122, 13810, 1655, 5626, 4221], 0.06349206349206349)\n",
      "8: (4283, [13060, 774, 12044, 18704, 11547, 11040, 297, 8764, 13506, 3656, 8651, 3405, 14545, 16340, 6485, 472, 5723, 16094, 13791, 1635, 12524, 1901, 6765, 2672, 11122, 13810, 1655, 5626, 4221], 2489, [774, 6535, 16529, 6418, 8087, 6812, 18589, 13216, 10656, 5154, 8104, 11946, 12718, 15026, 2741, 8764, 7101, 7102, 10431, 18112, 4035, 3911, 3656, 15438, 4560, 16979, 15323, 1756, 1245, 1128, 1901, 8173, 241, 19442, 16120, 1658, 7806, 6399], 0.06349206349206349)\n",
      "9: (2768, [6112, 128, 300, 12367, 1648, 13813, 14935, 824, 19866, 14779, 19644, 1887], 4385, [13056, 10758, 10504, 14216, 19982, 13839, 14611, 17571, 10793, 19644, 7100, 19390, 15426, 11350, 11224, 2907, 8544, 15976, 1648, 14965, 7419, 3967], 0.0625)\n",
      "10: (4385, [13056, 10758, 10504, 14216, 19982, 13839, 14611, 17571, 10793, 19644, 7100, 19390, 15426, 11350, 11224, 2907, 8544, 15976, 1648, 14965, 7419, 3967], 2768, [6112, 128, 300, 12367, 1648, 13813, 14935, 824, 19866, 14779, 19644, 1887], 0.0625)\n"
     ]
    }
   ],
   "source": [
    "# Q6 Answer\n",
    "\n",
    "def jaccard_similarity(list1, list2):\n",
    "    s1 = set(list1)\n",
    "    s2 = set(list2)\n",
    "    return len(s1.intersection(s2)) / len(s1.union(s2))\n",
    "\n",
    "# order: (order, cust)\n",
    "# line: (order, part)\n",
    "o = orderRDD.map(lambda x: (x[0],x[1]))\n",
    "l = lineitemsRDD.map(lambda x: (x[0], x[1]))\n",
    "\n",
    "# ol: (\"cust\", \"part\")\n",
    "ol = o.fullOuterJoin(l).map(lambda x: (x[1][0],x[1][1]))\\\n",
    "    .reduceByKey(lambda x,y: rdd_set(x,y))\n",
    "\n",
    "result = ol.cartesian(ol)\\\n",
    "    .filter(lambda x: x[0][0] != x[1][0])\\\n",
    "    .map(lambda x: (x[0][0], x[0][1], x[1][0], x[1][1], jaccard_similarity(x[0][1],x[1][1])) )\\\n",
    "    .top(10, lambda x: x[4])\n"
   ]
  },
  {
   "cell_type": "code",
   "execution_count": 34,
   "metadata": {},
   "outputs": [
    {
     "name": "stdout",
     "output_type": "stream",
     "text": [
      "  1:   8456  0.09090909090909091\n",
      "  2:  10376  0.09090909090909091\n",
      "  3:   4808  0.06666666666666667\n",
      "  4:  10901  0.06666666666666667\n",
      "  5:   7532  0.06451612903225806\n",
      "  6:   5390  0.06451612903225806\n",
      "  7:   2489  0.06349206349206349\n",
      "  8:   4283  0.06349206349206349\n",
      "  9:   2768  0.0625\n",
      " 10:   4385  0.0625\n"
     ]
    }
   ],
   "source": [
    "for idx, i in enumerate(result, start=1):\n",
    "    print(\"{:3}:  {:5}  {:5}\".format(idx,i[0], i[4]))"
   ]
  },
  {
   "cell_type": "code",
   "execution_count": 39,
   "metadata": {},
   "outputs": [
    {
     "name": "stdout",
     "output_type": "stream",
     "text": [
      "1: ('6031+15277', 3)\n",
      "2: ('14405+17144', 3)\n",
      "3: ('11630+14244', 3)\n",
      "4: ('11004+15109', 3)\n",
      "5: ('364+3823', 3)\n",
      "6: ('250+7045', 3)\n",
      "7: ('12966+16068', 3)\n",
      "8: ('5850+11561', 3)\n",
      "9: ('595+11837', 3)\n",
      "10: ('5085+10907', 3)\n"
     ]
    }
   ],
   "source": [
    "# Q7 Answer\n",
    "\n",
    "def combin(x):\n",
    "    return [ '+'.join([str(i),str(j)]) for i,j in combinations(sorted(x),2) ]\n",
    "\n",
    "l = lineitemsRDD.map(lambda x: (x[0], x[1]))\n",
    "\n",
    "result = l\\\n",
    "    .combineByKey(lambda x:[x], lambda i,j:i+[j], lambda u,w:u+w)\\\n",
    "    .map(lambda x: (x[0], list(x[1])))\\\n",
    "    .filter(lambda x: len(x[1]) > 1)\\\n",
    "    .flatMap(lambda x: combin(x[1]))\\\n",
    "    .map(lambda x: (x, 1))\\\n",
    "    .reduceByKey(add)\\\n",
    "    .top(10, lambda x: x[1])\n",
    "\n",
    "for idx, i in enumerate(result, start=1):\n",
    "    print(\"{}: {}\".format(idx, i))\n"
   ]
  },
  {
   "cell_type": "code",
   "execution_count": null,
   "metadata": {},
   "outputs": [],
   "source": []
  }
 ],
 "metadata": {
  "kernelspec": {
   "display_name": "Python 3",
   "language": "python",
   "name": "python3"
  },
  "language_info": {
   "codemirror_mode": {
    "name": "ipython",
    "version": 3
   },
   "file_extension": ".py",
   "mimetype": "text/x-python",
   "name": "python",
   "nbconvert_exporter": "python",
   "pygments_lexer": "ipython3",
   "version": "3.7.4"
  }
 },
 "nbformat": 4,
 "nbformat_minor": 2
}
